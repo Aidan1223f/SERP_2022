{
  "cells": [
    {
      "cell_type": "markdown",
      "metadata": {
        "id": "view-in-github",
        "colab_type": "text"
      },
      "source": [
        "<a href=\"https://colab.research.google.com/github/Aidan1223f/SERP_2022/blob/main/3rd%20iteration%20.ipynb\" target=\"_parent\"><img src=\"https://colab.research.google.com/assets/colab-badge.svg\" alt=\"Open In Colab\"/></a>"
      ]
    },
    {
      "cell_type": "code",
      "execution_count": null,
      "metadata": {
        "colab": {
          "base_uri": "https://localhost:8080/",
          "height": 73
        },
        "id": "rHpBHNAuU7GA",
        "outputId": "3d12c0f9-32db-423f-ca07-803c70e20b51"
      },
      "outputs": [
        {
          "output_type": "display_data",
          "data": {
            "text/plain": [
              "<IPython.core.display.HTML object>"
            ],
            "text/html": [
              "\n",
              "     <input type=\"file\" id=\"files-9f5dcd84-ad22-465c-ab91-c1c790c7ba64\" name=\"files[]\" multiple disabled\n",
              "        style=\"border:none\" />\n",
              "     <output id=\"result-9f5dcd84-ad22-465c-ab91-c1c790c7ba64\">\n",
              "      Upload widget is only available when the cell has been executed in the\n",
              "      current browser session. Please rerun this cell to enable.\n",
              "      </output>\n",
              "      <script>// Copyright 2017 Google LLC\n",
              "//\n",
              "// Licensed under the Apache License, Version 2.0 (the \"License\");\n",
              "// you may not use this file except in compliance with the License.\n",
              "// You may obtain a copy of the License at\n",
              "//\n",
              "//      http://www.apache.org/licenses/LICENSE-2.0\n",
              "//\n",
              "// Unless required by applicable law or agreed to in writing, software\n",
              "// distributed under the License is distributed on an \"AS IS\" BASIS,\n",
              "// WITHOUT WARRANTIES OR CONDITIONS OF ANY KIND, either express or implied.\n",
              "// See the License for the specific language governing permissions and\n",
              "// limitations under the License.\n",
              "\n",
              "/**\n",
              " * @fileoverview Helpers for google.colab Python module.\n",
              " */\n",
              "(function(scope) {\n",
              "function span(text, styleAttributes = {}) {\n",
              "  const element = document.createElement('span');\n",
              "  element.textContent = text;\n",
              "  for (const key of Object.keys(styleAttributes)) {\n",
              "    element.style[key] = styleAttributes[key];\n",
              "  }\n",
              "  return element;\n",
              "}\n",
              "\n",
              "// Max number of bytes which will be uploaded at a time.\n",
              "const MAX_PAYLOAD_SIZE = 100 * 1024;\n",
              "\n",
              "function _uploadFiles(inputId, outputId) {\n",
              "  const steps = uploadFilesStep(inputId, outputId);\n",
              "  const outputElement = document.getElementById(outputId);\n",
              "  // Cache steps on the outputElement to make it available for the next call\n",
              "  // to uploadFilesContinue from Python.\n",
              "  outputElement.steps = steps;\n",
              "\n",
              "  return _uploadFilesContinue(outputId);\n",
              "}\n",
              "\n",
              "// This is roughly an async generator (not supported in the browser yet),\n",
              "// where there are multiple asynchronous steps and the Python side is going\n",
              "// to poll for completion of each step.\n",
              "// This uses a Promise to block the python side on completion of each step,\n",
              "// then passes the result of the previous step as the input to the next step.\n",
              "function _uploadFilesContinue(outputId) {\n",
              "  const outputElement = document.getElementById(outputId);\n",
              "  const steps = outputElement.steps;\n",
              "\n",
              "  const next = steps.next(outputElement.lastPromiseValue);\n",
              "  return Promise.resolve(next.value.promise).then((value) => {\n",
              "    // Cache the last promise value to make it available to the next\n",
              "    // step of the generator.\n",
              "    outputElement.lastPromiseValue = value;\n",
              "    return next.value.response;\n",
              "  });\n",
              "}\n",
              "\n",
              "/**\n",
              " * Generator function which is called between each async step of the upload\n",
              " * process.\n",
              " * @param {string} inputId Element ID of the input file picker element.\n",
              " * @param {string} outputId Element ID of the output display.\n",
              " * @return {!Iterable<!Object>} Iterable of next steps.\n",
              " */\n",
              "function* uploadFilesStep(inputId, outputId) {\n",
              "  const inputElement = document.getElementById(inputId);\n",
              "  inputElement.disabled = false;\n",
              "\n",
              "  const outputElement = document.getElementById(outputId);\n",
              "  outputElement.innerHTML = '';\n",
              "\n",
              "  const pickedPromise = new Promise((resolve) => {\n",
              "    inputElement.addEventListener('change', (e) => {\n",
              "      resolve(e.target.files);\n",
              "    });\n",
              "  });\n",
              "\n",
              "  const cancel = document.createElement('button');\n",
              "  inputElement.parentElement.appendChild(cancel);\n",
              "  cancel.textContent = 'Cancel upload';\n",
              "  const cancelPromise = new Promise((resolve) => {\n",
              "    cancel.onclick = () => {\n",
              "      resolve(null);\n",
              "    };\n",
              "  });\n",
              "\n",
              "  // Wait for the user to pick the files.\n",
              "  const files = yield {\n",
              "    promise: Promise.race([pickedPromise, cancelPromise]),\n",
              "    response: {\n",
              "      action: 'starting',\n",
              "    }\n",
              "  };\n",
              "\n",
              "  cancel.remove();\n",
              "\n",
              "  // Disable the input element since further picks are not allowed.\n",
              "  inputElement.disabled = true;\n",
              "\n",
              "  if (!files) {\n",
              "    return {\n",
              "      response: {\n",
              "        action: 'complete',\n",
              "      }\n",
              "    };\n",
              "  }\n",
              "\n",
              "  for (const file of files) {\n",
              "    const li = document.createElement('li');\n",
              "    li.append(span(file.name, {fontWeight: 'bold'}));\n",
              "    li.append(span(\n",
              "        `(${file.type || 'n/a'}) - ${file.size} bytes, ` +\n",
              "        `last modified: ${\n",
              "            file.lastModifiedDate ? file.lastModifiedDate.toLocaleDateString() :\n",
              "                                    'n/a'} - `));\n",
              "    const percent = span('0% done');\n",
              "    li.appendChild(percent);\n",
              "\n",
              "    outputElement.appendChild(li);\n",
              "\n",
              "    const fileDataPromise = new Promise((resolve) => {\n",
              "      const reader = new FileReader();\n",
              "      reader.onload = (e) => {\n",
              "        resolve(e.target.result);\n",
              "      };\n",
              "      reader.readAsArrayBuffer(file);\n",
              "    });\n",
              "    // Wait for the data to be ready.\n",
              "    let fileData = yield {\n",
              "      promise: fileDataPromise,\n",
              "      response: {\n",
              "        action: 'continue',\n",
              "      }\n",
              "    };\n",
              "\n",
              "    // Use a chunked sending to avoid message size limits. See b/62115660.\n",
              "    let position = 0;\n",
              "    do {\n",
              "      const length = Math.min(fileData.byteLength - position, MAX_PAYLOAD_SIZE);\n",
              "      const chunk = new Uint8Array(fileData, position, length);\n",
              "      position += length;\n",
              "\n",
              "      const base64 = btoa(String.fromCharCode.apply(null, chunk));\n",
              "      yield {\n",
              "        response: {\n",
              "          action: 'append',\n",
              "          file: file.name,\n",
              "          data: base64,\n",
              "        },\n",
              "      };\n",
              "\n",
              "      let percentDone = fileData.byteLength === 0 ?\n",
              "          100 :\n",
              "          Math.round((position / fileData.byteLength) * 100);\n",
              "      percent.textContent = `${percentDone}% done`;\n",
              "\n",
              "    } while (position < fileData.byteLength);\n",
              "  }\n",
              "\n",
              "  // All done.\n",
              "  yield {\n",
              "    response: {\n",
              "      action: 'complete',\n",
              "    }\n",
              "  };\n",
              "}\n",
              "\n",
              "scope.google = scope.google || {};\n",
              "scope.google.colab = scope.google.colab || {};\n",
              "scope.google.colab._files = {\n",
              "  _uploadFiles,\n",
              "  _uploadFilesContinue,\n",
              "};\n",
              "})(self);\n",
              "</script> "
            ]
          },
          "metadata": {}
        },
        {
          "output_type": "stream",
          "name": "stdout",
          "text": [
            "Saving www-gutenberg-org-files-1342-1342-0-txt.txt to www-gutenberg-org-files-1342-1342-0-txt.txt\n"
          ]
        }
      ],
      "source": [
        "import tensorflow as tf\n",
        "from tensorflow.keras.preprocessing.text import Tokenizer\n",
        "from tensorflow.keras.layers import Embedding, LSTM, Dense\n",
        "from tensorflow.keras.models import Sequential\n",
        "from tensorflow.keras.utils import to_categorical\n",
        "from tensorflow.keras.optimizers import Adam\n",
        "import pickle\n",
        "import numpy as np\n",
        "import os\n",
        "\n",
        "from google.colab import files\n",
        "uploaded = files.upload()"
      ]
    },
    {
      "cell_type": "code",
      "source": [
        "from google.colab import drive\n",
        "drive.mount('/content/drive')"
      ],
      "metadata": {
        "colab": {
          "base_uri": "https://localhost:8080/",
          "height": 329
        },
        "id": "SxuoRWq85vwv",
        "outputId": "7953729c-94de-4e35-d3b4-73d9e5477e5a"
      },
      "execution_count": null,
      "outputs": [
        {
          "output_type": "error",
          "ename": "MessageError",
          "evalue": "ignored",
          "traceback": [
            "\u001b[0;31m---------------------------------------------------------------------------\u001b[0m",
            "\u001b[0;31mMessageError\u001b[0m                              Traceback (most recent call last)",
            "\u001b[0;32m<ipython-input-2-d5df0069828e>\u001b[0m in \u001b[0;36m<module>\u001b[0;34m\u001b[0m\n\u001b[1;32m      1\u001b[0m \u001b[0;32mfrom\u001b[0m \u001b[0mgoogle\u001b[0m\u001b[0;34m.\u001b[0m\u001b[0mcolab\u001b[0m \u001b[0;32mimport\u001b[0m \u001b[0mdrive\u001b[0m\u001b[0;34m\u001b[0m\u001b[0;34m\u001b[0m\u001b[0m\n\u001b[0;32m----> 2\u001b[0;31m \u001b[0mdrive\u001b[0m\u001b[0;34m.\u001b[0m\u001b[0mmount\u001b[0m\u001b[0;34m(\u001b[0m\u001b[0;34m'/content/drive'\u001b[0m\u001b[0;34m)\u001b[0m\u001b[0;34m\u001b[0m\u001b[0;34m\u001b[0m\u001b[0m\n\u001b[0m",
            "\u001b[0;32m/usr/local/lib/python3.8/dist-packages/google/colab/drive.py\u001b[0m in \u001b[0;36mmount\u001b[0;34m(mountpoint, force_remount, timeout_ms, readonly)\u001b[0m\n\u001b[1;32m     99\u001b[0m \u001b[0;32mdef\u001b[0m \u001b[0mmount\u001b[0m\u001b[0;34m(\u001b[0m\u001b[0mmountpoint\u001b[0m\u001b[0;34m,\u001b[0m \u001b[0mforce_remount\u001b[0m\u001b[0;34m=\u001b[0m\u001b[0;32mFalse\u001b[0m\u001b[0;34m,\u001b[0m \u001b[0mtimeout_ms\u001b[0m\u001b[0;34m=\u001b[0m\u001b[0;36m120000\u001b[0m\u001b[0;34m,\u001b[0m \u001b[0mreadonly\u001b[0m\u001b[0;34m=\u001b[0m\u001b[0;32mFalse\u001b[0m\u001b[0;34m)\u001b[0m\u001b[0;34m:\u001b[0m\u001b[0;34m\u001b[0m\u001b[0;34m\u001b[0m\u001b[0m\n\u001b[1;32m    100\u001b[0m   \u001b[0;34m\"\"\"Mount your Google Drive at the specified mountpoint path.\"\"\"\u001b[0m\u001b[0;34m\u001b[0m\u001b[0;34m\u001b[0m\u001b[0m\n\u001b[0;32m--> 101\u001b[0;31m   return _mount(\n\u001b[0m\u001b[1;32m    102\u001b[0m       \u001b[0mmountpoint\u001b[0m\u001b[0;34m,\u001b[0m\u001b[0;34m\u001b[0m\u001b[0;34m\u001b[0m\u001b[0m\n\u001b[1;32m    103\u001b[0m       \u001b[0mforce_remount\u001b[0m\u001b[0;34m=\u001b[0m\u001b[0mforce_remount\u001b[0m\u001b[0;34m,\u001b[0m\u001b[0;34m\u001b[0m\u001b[0;34m\u001b[0m\u001b[0m\n",
            "\u001b[0;32m/usr/local/lib/python3.8/dist-packages/google/colab/drive.py\u001b[0m in \u001b[0;36m_mount\u001b[0;34m(mountpoint, force_remount, timeout_ms, ephemeral, readonly)\u001b[0m\n\u001b[1;32m    122\u001b[0m       'TBE_EPHEM_CREDS_ADDR'] if ephemeral else _os.environ['TBE_CREDS_ADDR']\n\u001b[1;32m    123\u001b[0m   \u001b[0;32mif\u001b[0m \u001b[0mephemeral\u001b[0m\u001b[0;34m:\u001b[0m\u001b[0;34m\u001b[0m\u001b[0;34m\u001b[0m\u001b[0m\n\u001b[0;32m--> 124\u001b[0;31m     _message.blocking_request(\n\u001b[0m\u001b[1;32m    125\u001b[0m         'request_auth', request={'authType': 'dfs_ephemeral'}, timeout_sec=None)\n\u001b[1;32m    126\u001b[0m \u001b[0;34m\u001b[0m\u001b[0m\n",
            "\u001b[0;32m/usr/local/lib/python3.8/dist-packages/google/colab/_message.py\u001b[0m in \u001b[0;36mblocking_request\u001b[0;34m(request_type, request, timeout_sec, parent)\u001b[0m\n\u001b[1;32m    169\u001b[0m   request_id = send_request(\n\u001b[1;32m    170\u001b[0m       request_type, request, parent=parent, expect_reply=True)\n\u001b[0;32m--> 171\u001b[0;31m   \u001b[0;32mreturn\u001b[0m \u001b[0mread_reply_from_input\u001b[0m\u001b[0;34m(\u001b[0m\u001b[0mrequest_id\u001b[0m\u001b[0;34m,\u001b[0m \u001b[0mtimeout_sec\u001b[0m\u001b[0;34m)\u001b[0m\u001b[0;34m\u001b[0m\u001b[0;34m\u001b[0m\u001b[0m\n\u001b[0m",
            "\u001b[0;32m/usr/local/lib/python3.8/dist-packages/google/colab/_message.py\u001b[0m in \u001b[0;36mread_reply_from_input\u001b[0;34m(message_id, timeout_sec)\u001b[0m\n\u001b[1;32m    100\u001b[0m         reply.get('colab_msg_id') == message_id):\n\u001b[1;32m    101\u001b[0m       \u001b[0;32mif\u001b[0m \u001b[0;34m'error'\u001b[0m \u001b[0;32min\u001b[0m \u001b[0mreply\u001b[0m\u001b[0;34m:\u001b[0m\u001b[0;34m\u001b[0m\u001b[0;34m\u001b[0m\u001b[0m\n\u001b[0;32m--> 102\u001b[0;31m         \u001b[0;32mraise\u001b[0m \u001b[0mMessageError\u001b[0m\u001b[0;34m(\u001b[0m\u001b[0mreply\u001b[0m\u001b[0;34m[\u001b[0m\u001b[0;34m'error'\u001b[0m\u001b[0;34m]\u001b[0m\u001b[0;34m)\u001b[0m\u001b[0;34m\u001b[0m\u001b[0;34m\u001b[0m\u001b[0m\n\u001b[0m\u001b[1;32m    103\u001b[0m       \u001b[0;32mreturn\u001b[0m \u001b[0mreply\u001b[0m\u001b[0;34m.\u001b[0m\u001b[0mget\u001b[0m\u001b[0;34m(\u001b[0m\u001b[0;34m'data'\u001b[0m\u001b[0;34m,\u001b[0m \u001b[0;32mNone\u001b[0m\u001b[0;34m)\u001b[0m\u001b[0;34m\u001b[0m\u001b[0;34m\u001b[0m\u001b[0m\n\u001b[1;32m    104\u001b[0m \u001b[0;34m\u001b[0m\u001b[0m\n",
            "\u001b[0;31mMessageError\u001b[0m: Error: credential propagation was unsuccessful"
          ]
        }
      ]
    },
    {
      "cell_type": "markdown",
      "metadata": {
        "id": "T51FotoktGkP"
      },
      "source": [
        "Preproccessing::"
      ]
    },
    {
      "cell_type": "code",
      "execution_count": null,
      "metadata": {
        "colab": {
          "base_uri": "https://localhost:8080/"
        },
        "id": "Stiw91PjtFIN",
        "outputId": "f9de8c5d-0c3b-4d0e-e9e1-a9a66e37bc21"
      },
      "outputs": [
        {
          "output_type": "stream",
          "name": "stdout",
          "text": [
            "The Project Gutenberg eBook of Pride and prejudice, by Jane Austen This eBook is for the use of anyone anywhere in the United States and most other parts of the world at no cost and with almost no restrictions whatsoever. You may copy it, give it away or re-use it under the terms of the Project Gute\n",
            "104345\n"
          ]
        }
      ],
      "source": [
        "file = open(\"www-gutenberg-org-files-1342-1342-0-txt.txt\", \"r\", encoding = \"utf8\")\n",
        "\n",
        "\n",
        "line = []\n",
        "for i in file:\n",
        "    line.append(i)\n",
        "\n",
        "\n",
        "txtData = \"\"\n",
        "for i in line:\n",
        "  txtData = ' '. join(line) \n",
        "\n",
        "txtData = txtData.replace('\\n', '').replace('\\r', '').replace('\\ufeff', '').replace('“','').replace('”','')  #new line, carriage return, unicode character --> replace by space\n",
        "\n",
        " \n",
        "txtData = txtData.split()\n",
        "txtData = ' '.join(txtData)\n",
        "print(txtData[:300])\n",
        "\n",
        "print(len(txtData))"
      ]
    },
    {
      "cell_type": "markdown",
      "metadata": {
        "id": "hctqHEmSUtdo"
      },
      "source": [
        "Tokenizer:"
      ]
    },
    {
      "cell_type": "code",
      "execution_count": null,
      "metadata": {
        "colab": {
          "base_uri": "https://localhost:8080/"
        },
        "id": "NjqnuEXiUwMB",
        "outputId": "8a45fc37-b4c0-4383-9a9d-1dc66bd85e55"
      },
      "outputs": [
        {
          "output_type": "stream",
          "name": "stdout",
          "text": [
            "[2, 646, 501, 375, 3, 138, 5, 307, 27, 67, 116, 39, 375, 14, 22, 2, 427, 3, 871, 1347, 7, 2, 502, 872, 5, 86, 99, 873, 3, 2]\n",
            "18732\n"
          ]
        }
      ],
      "source": [
        "token = Tokenizer(oov_token='<OOV>')\n",
        "token.fit_on_texts([txtData])\n",
        "\n",
        "# saving the tokenizer for predict function\n",
        "pickle.dump(token, open('token.pkl', 'wb'))\n",
        "\n",
        "seq_data = token.texts_to_sequences([txtData])[0]\n",
        "print(seq_data[:30])\n",
        "print(len(seq_data))"
      ]
    },
    {
      "cell_type": "code",
      "execution_count": null,
      "metadata": {
        "colab": {
          "base_uri": "https://localhost:8080/"
        },
        "id": "GykDrI69gBy-",
        "outputId": "c7edea86-e30b-4a0e-86d6-886c40a07981"
      },
      "outputs": [
        {
          "output_type": "stream",
          "name": "stdout",
          "text": [
            "3043\n"
          ]
        }
      ],
      "source": [
        "vocabSize =  len(token.word_index) + 1\n",
        "print(vocabSize)"
      ]
    },
    {
      "cell_type": "markdown",
      "metadata": {
        "id": "qqubbm9a6V8K"
      },
      "source": [
        "Creates sequence of 3 words and predicted word "
      ]
    },
    {
      "cell_type": "code",
      "execution_count": null,
      "metadata": {
        "colab": {
          "base_uri": "https://localhost:8080/"
        },
        "id": "-2s-XufH23E6",
        "outputId": "577a91bd-a51f-4893-bc9e-0612e170f95e"
      },
      "outputs": [
        {
          "output_type": "stream",
          "name": "stdout",
          "text": [
            "sequence length:  18728\n",
            "[[  2 646 501 375   3]\n",
            " [646 501 375   3 138]\n",
            " [501 375   3 138   5]\n",
            " [375   3 138   5 307]\n",
            " [  3 138   5 307  27]\n",
            " [138   5 307  27  67]\n",
            " [  5 307  27  67 116]\n",
            " [307  27  67 116  39]\n",
            " [ 27  67 116  39 375]\n",
            " [ 67 116  39 375  14]\n",
            " [116  39 375  14  22]\n",
            " [ 39 375  14  22   2]\n",
            " [375  14  22   2 427]\n",
            " [ 14  22   2 427   3]\n",
            " [ 22   2 427   3 871]]\n"
          ]
        }
      ],
      "source": [
        "seq = []\n",
        "for i in range(4, len(seq_data)): \n",
        "  wrd = seq_data[i-4 : i + 1]\n",
        "  seq.append(wrd)\n",
        "\n",
        "print(\"sequence length: \" , len(seq))\n",
        "seq = np.array(seq)\n",
        "print(seq[:15])"
      ]
    },
    {
      "cell_type": "markdown",
      "metadata": {
        "id": "Al733c7d7win"
      },
      "source": [
        "Data represents the first 3 letters that the alg will be reading \n",
        ":  Predict represents predicted word"
      ]
    },
    {
      "cell_type": "code",
      "execution_count": null,
      "metadata": {
        "colab": {
          "base_uri": "https://localhost:8080/"
        },
        "id": "1J5YTMIn7US2",
        "outputId": "c4b2b247-4a75-4723-d331-015321cff6a4"
      },
      "outputs": [
        {
          "output_type": "stream",
          "name": "stdout",
          "text": [
            "[[   2  646  501  375]\n",
            " [ 646  501  375    3]\n",
            " [ 501  375    3  138]\n",
            " ...\n",
            " [3042   45  178  234]\n",
            " [  45  178  234   84]\n",
            " [ 178  234   84   79]]\n",
            "\n",
            "\n",
            "[   3  138    5 ...   84   79 1089]\n"
          ]
        }
      ],
      "source": [
        "data = []\n",
        "predict = []\n",
        "\n",
        "for i in seq:\n",
        "    data.append(i[0:4])\n",
        "    predict.append(i[4])\n",
        "    \n",
        "data = np.array(data)\n",
        "predict = np.array(predict)\n",
        "\n",
        "print(data)\n",
        "print(\"\\n\")\n",
        "print(predict)\n"
      ]
    },
    {
      "cell_type": "markdown",
      "metadata": {
        "id": "5laLirbEtr07"
      },
      "source": [
        "\n",
        "\n",
        "converts the class vectors into binary class matrix\n",
        "\n",
        "\n"
      ]
    },
    {
      "cell_type": "code",
      "execution_count": null,
      "metadata": {
        "colab": {
          "base_uri": "https://localhost:8080/"
        },
        "id": "utIFmdl47tMU",
        "outputId": "ba717227-9ea8-42f5-bd46-81322929bec5"
      },
      "outputs": [
        {
          "output_type": "stream",
          "name": "stdout",
          "text": [
            "[[0. 0. 0. ... 0. 0. 0.]\n",
            " [0. 0. 0. ... 0. 0. 0.]\n",
            " [0. 0. 0. ... 0. 0. 0.]\n",
            " [0. 0. 0. ... 0. 0. 0.]\n",
            " [0. 0. 0. ... 0. 0. 0.]]\n"
          ]
        }
      ],
      "source": [
        "predict = to_categorical(predict, num_classes=vocabSize)\n",
        "print(predict[:5])"
      ]
    },
    {
      "cell_type": "markdown",
      "metadata": {
        "id": "npQGNnLFw9mE"
      },
      "source": [
        "Model Creation: LSTM "
      ]
    },
    {
      "cell_type": "code",
      "execution_count": null,
      "metadata": {
        "id": "wgtP5ISFuStU"
      },
      "outputs": [],
      "source": [
        "model = Sequential()\n",
        "model.add(Embedding(vocabSize, 10, input_length=4))\n",
        "model.add(LSTM(1000, return_sequences=True))\n",
        "model.add(LSTM(1000))\n",
        "model.add(Dense(1000, activation=\"relu\"))\n",
        "model.add(Dense(vocabSize, activation=\"softmax\"))"
      ]
    },
    {
      "cell_type": "code",
      "execution_count": null,
      "metadata": {
        "colab": {
          "background_save": true
        },
        "id": "1Ko0cyB7moAA"
      },
      "outputs": [],
      "source": [
        "print(model.summary())"
      ]
    },
    {
      "cell_type": "code",
      "execution_count": null,
      "metadata": {
        "id": "jAI-ro_im6EZ"
      },
      "outputs": [],
      "source": [
        "from tensorflow import keras\n",
        "from keras.utils.vis_utils import plot_model"
      ]
    },
    {
      "cell_type": "code",
      "execution_count": null,
      "metadata": {
        "colab": {
          "base_uri": "https://localhost:8080/"
        },
        "id": "VvR5pvDZm6HI",
        "outputId": "e4ac5724-93c0-4f4b-8a1e-6d7d042fa81c"
      },
      "outputs": [
        {
          "output_type": "stream",
          "name": "stdout",
          "text": [
            "Epoch 1/70\n",
            "293/293 [==============================] - ETA: 0s - loss: 6.6082\n",
            "Epoch 1: loss improved from inf to 6.60818, saving model to next_words.h5\n",
            "293/293 [==============================] - 202s 676ms/step - loss: 6.6082\n",
            "Epoch 2/70\n",
            "293/293 [==============================] - ETA: 0s - loss: 6.2311\n",
            "Epoch 2: loss improved from 6.60818 to 6.23106, saving model to next_words.h5\n",
            "293/293 [==============================] - 199s 679ms/step - loss: 6.2311\n",
            "Epoch 3/70\n",
            "293/293 [==============================] - ETA: 0s - loss: 5.9710\n",
            "Epoch 3: loss improved from 6.23106 to 5.97097, saving model to next_words.h5\n",
            "293/293 [==============================] - 200s 682ms/step - loss: 5.9710\n",
            "Epoch 4/70\n",
            "293/293 [==============================] - ETA: 0s - loss: 5.6742\n",
            "Epoch 4: loss improved from 5.97097 to 5.67416, saving model to next_words.h5\n",
            "293/293 [==============================] - 201s 684ms/step - loss: 5.6742\n",
            "Epoch 5/70\n",
            "293/293 [==============================] - ETA: 0s - loss: 5.3749\n",
            "Epoch 5: loss improved from 5.67416 to 5.37485, saving model to next_words.h5\n",
            "293/293 [==============================] - 195s 665ms/step - loss: 5.3749\n",
            "Epoch 6/70\n",
            "293/293 [==============================] - ETA: 0s - loss: 5.1207\n",
            "Epoch 6: loss improved from 5.37485 to 5.12069, saving model to next_words.h5\n",
            "293/293 [==============================] - 196s 670ms/step - loss: 5.1207\n",
            "Epoch 7/70\n",
            "293/293 [==============================] - ETA: 0s - loss: 4.8715\n",
            "Epoch 7: loss improved from 5.12069 to 4.87153, saving model to next_words.h5\n",
            "293/293 [==============================] - 195s 667ms/step - loss: 4.8715\n",
            "Epoch 8/70\n",
            "293/293 [==============================] - ETA: 0s - loss: 4.6324\n",
            "Epoch 8: loss improved from 4.87153 to 4.63242, saving model to next_words.h5\n",
            "293/293 [==============================] - 198s 677ms/step - loss: 4.6324\n",
            "Epoch 9/70\n",
            "293/293 [==============================] - ETA: 0s - loss: 4.3806\n",
            "Epoch 9: loss improved from 4.63242 to 4.38059, saving model to next_words.h5\n",
            "293/293 [==============================] - 195s 666ms/step - loss: 4.3806\n",
            "Epoch 10/70\n",
            "293/293 [==============================] - ETA: 0s - loss: 4.1035\n",
            "Epoch 10: loss improved from 4.38059 to 4.10351, saving model to next_words.h5\n",
            "293/293 [==============================] - 196s 669ms/step - loss: 4.1035\n",
            "Epoch 11/70\n",
            "293/293 [==============================] - ETA: 0s - loss: 3.7996\n",
            "Epoch 11: loss improved from 4.10351 to 3.79962, saving model to next_words.h5\n",
            "293/293 [==============================] - 204s 695ms/step - loss: 3.7996\n",
            "Epoch 12/70\n",
            "293/293 [==============================] - ETA: 0s - loss: 3.4659\n",
            "Epoch 12: loss improved from 3.79962 to 3.46587, saving model to next_words.h5\n",
            "293/293 [==============================] - 200s 681ms/step - loss: 3.4659\n",
            "Epoch 13/70\n",
            "293/293 [==============================] - ETA: 0s - loss: 3.1239\n",
            "Epoch 13: loss improved from 3.46587 to 3.12392, saving model to next_words.h5\n",
            "293/293 [==============================] - 204s 697ms/step - loss: 3.1239\n",
            "Epoch 14/70\n",
            "293/293 [==============================] - ETA: 0s - loss: 2.7561\n",
            "Epoch 14: loss improved from 3.12392 to 2.75605, saving model to next_words.h5\n",
            "293/293 [==============================] - 206s 703ms/step - loss: 2.7561\n",
            "Epoch 15/70\n",
            "293/293 [==============================] - ETA: 0s - loss: 2.4180\n",
            "Epoch 15: loss improved from 2.75605 to 2.41800, saving model to next_words.h5\n",
            "293/293 [==============================] - 207s 706ms/step - loss: 2.4180\n",
            "Epoch 16/70\n",
            "293/293 [==============================] - ETA: 0s - loss: 2.0793\n",
            "Epoch 16: loss improved from 2.41800 to 2.07929, saving model to next_words.h5\n",
            "293/293 [==============================] - 208s 709ms/step - loss: 2.0793\n",
            "Epoch 17/70\n",
            "293/293 [==============================] - ETA: 0s - loss: 1.7409\n",
            "Epoch 17: loss improved from 2.07929 to 1.74088, saving model to next_words.h5\n",
            "293/293 [==============================] - 209s 715ms/step - loss: 1.7409\n",
            "Epoch 18/70\n",
            "293/293 [==============================] - ETA: 0s - loss: 1.4243\n",
            "Epoch 18: loss improved from 1.74088 to 1.42434, saving model to next_words.h5\n",
            "293/293 [==============================] - 206s 703ms/step - loss: 1.4243\n",
            "Epoch 19/70\n",
            "293/293 [==============================] - ETA: 0s - loss: 1.1307\n",
            "Epoch 19: loss improved from 1.42434 to 1.13069, saving model to next_words.h5\n",
            "293/293 [==============================] - 208s 709ms/step - loss: 1.1307\n",
            "Epoch 20/70\n",
            "293/293 [==============================] - ETA: 0s - loss: 0.8643\n",
            "Epoch 20: loss improved from 1.13069 to 0.86434, saving model to next_words.h5\n",
            "293/293 [==============================] - 203s 693ms/step - loss: 0.8643\n",
            "Epoch 21/70\n",
            "293/293 [==============================] - ETA: 0s - loss: 0.6409\n",
            "Epoch 21: loss improved from 0.86434 to 0.64092, saving model to next_words.h5\n",
            "293/293 [==============================] - 205s 699ms/step - loss: 0.6409\n",
            "Epoch 22/70\n",
            "293/293 [==============================] - ETA: 0s - loss: 0.4726\n",
            "Epoch 22: loss improved from 0.64092 to 0.47261, saving model to next_words.h5\n",
            "293/293 [==============================] - 205s 700ms/step - loss: 0.4726\n",
            "Epoch 23/70\n",
            "293/293 [==============================] - ETA: 0s - loss: 0.3396\n",
            "Epoch 23: loss improved from 0.47261 to 0.33957, saving model to next_words.h5\n",
            "293/293 [==============================] - 202s 688ms/step - loss: 0.3396\n",
            "Epoch 24/70\n",
            "293/293 [==============================] - ETA: 0s - loss: 0.2566\n",
            "Epoch 24: loss improved from 0.33957 to 0.25661, saving model to next_words.h5\n",
            "293/293 [==============================] - 204s 695ms/step - loss: 0.2566\n",
            "Epoch 25/70\n",
            "293/293 [==============================] - ETA: 0s - loss: 0.1957\n",
            "Epoch 25: loss improved from 0.25661 to 0.19573, saving model to next_words.h5\n",
            "293/293 [==============================] - 200s 682ms/step - loss: 0.1957\n",
            "Epoch 26/70\n",
            "293/293 [==============================] - ETA: 0s - loss: 0.1651\n",
            "Epoch 26: loss improved from 0.19573 to 0.16511, saving model to next_words.h5\n",
            "293/293 [==============================] - 202s 691ms/step - loss: 0.1651\n",
            "Epoch 27/70\n",
            "293/293 [==============================] - ETA: 0s - loss: 0.1531\n",
            "Epoch 27: loss improved from 0.16511 to 0.15306, saving model to next_words.h5\n",
            "293/293 [==============================] - 209s 713ms/step - loss: 0.1531\n",
            "Epoch 28/70\n",
            "293/293 [==============================] - ETA: 0s - loss: 0.1525\n",
            "Epoch 28: loss improved from 0.15306 to 0.15252, saving model to next_words.h5\n",
            "293/293 [==============================] - 202s 688ms/step - loss: 0.1525\n",
            "Epoch 29/70\n",
            "293/293 [==============================] - ETA: 0s - loss: 0.1608\n",
            "Epoch 29: loss did not improve from 0.15252\n",
            "293/293 [==============================] - 200s 684ms/step - loss: 0.1608\n",
            "Epoch 30/70\n",
            "293/293 [==============================] - ETA: 0s - loss: 0.1804\n",
            "Epoch 30: loss did not improve from 0.15252\n",
            "293/293 [==============================] - 202s 691ms/step - loss: 0.1804\n",
            "Epoch 31/70\n",
            "293/293 [==============================] - ETA: 0s - loss: 0.1354\n",
            "Epoch 31: loss improved from 0.15252 to 0.13544, saving model to next_words.h5\n",
            "293/293 [==============================] - 201s 687ms/step - loss: 0.1354\n",
            "Epoch 32/70\n",
            "293/293 [==============================] - ETA: 0s - loss: 0.1214\n",
            "Epoch 32: loss improved from 0.13544 to 0.12135, saving model to next_words.h5\n",
            "293/293 [==============================] - 201s 684ms/step - loss: 0.1214\n",
            "Epoch 33/70\n",
            "293/293 [==============================] - ETA: 0s - loss: 0.1238\n",
            "Epoch 33: loss did not improve from 0.12135\n",
            "293/293 [==============================] - 199s 680ms/step - loss: 0.1238\n",
            "Epoch 34/70\n",
            "293/293 [==============================] - ETA: 0s - loss: 0.1056\n",
            "Epoch 34: loss improved from 0.12135 to 0.10562, saving model to next_words.h5\n",
            "293/293 [==============================] - 199s 679ms/step - loss: 0.1056\n",
            "Epoch 35/70\n",
            "293/293 [==============================] - ETA: 0s - loss: 0.1197\n",
            "Epoch 35: loss did not improve from 0.10562\n",
            "293/293 [==============================] - 200s 684ms/step - loss: 0.1197\n",
            "Epoch 36/70\n",
            "293/293 [==============================] - ETA: 0s - loss: 0.1355\n",
            "Epoch 36: loss did not improve from 0.10562\n",
            "293/293 [==============================] - 200s 684ms/step - loss: 0.1355\n",
            "Epoch 37/70\n",
            "293/293 [==============================] - ETA: 0s - loss: 0.1227\n",
            "Epoch 37: loss did not improve from 0.10562\n",
            "293/293 [==============================] - 198s 676ms/step - loss: 0.1227\n",
            "Epoch 38/70\n",
            "293/293 [==============================] - ETA: 0s - loss: 0.1106\n",
            "Epoch 38: loss did not improve from 0.10562\n",
            "293/293 [==============================] - 201s 687ms/step - loss: 0.1106\n",
            "Epoch 39/70\n",
            "293/293 [==============================] - ETA: 0s - loss: 0.0924\n",
            "Epoch 39: loss improved from 0.10562 to 0.09242, saving model to next_words.h5\n",
            "293/293 [==============================] - 206s 703ms/step - loss: 0.0924\n",
            "Epoch 40/70\n",
            "293/293 [==============================] - ETA: 0s - loss: 0.0999\n",
            "Epoch 40: loss did not improve from 0.09242\n",
            "293/293 [==============================] - 198s 676ms/step - loss: 0.0999\n",
            "Epoch 41/70\n",
            "293/293 [==============================] - ETA: 0s - loss: 0.0883\n",
            "Epoch 41: loss improved from 0.09242 to 0.08834, saving model to next_words.h5\n",
            "293/293 [==============================] - 201s 685ms/step - loss: 0.0883\n",
            "Epoch 42/70\n",
            "293/293 [==============================] - ETA: 0s - loss: 0.1064\n",
            "Epoch 42: loss did not improve from 0.08834\n",
            "293/293 [==============================] - 204s 696ms/step - loss: 0.1064\n",
            "Epoch 43/70\n",
            "293/293 [==============================] - ETA: 0s - loss: 0.0999\n",
            "Epoch 43: loss did not improve from 0.08834\n",
            "293/293 [==============================] - 200s 684ms/step - loss: 0.0999\n",
            "Epoch 44/70\n",
            "293/293 [==============================] - ETA: 0s - loss: 0.1001\n",
            "Epoch 44: loss did not improve from 0.08834\n",
            "293/293 [==============================] - 200s 683ms/step - loss: 0.1001\n",
            "Epoch 45/70\n",
            "293/293 [==============================] - ETA: 0s - loss: 0.1203\n",
            "Epoch 45: loss did not improve from 0.08834\n",
            "293/293 [==============================] - 199s 681ms/step - loss: 0.1203\n",
            "Epoch 46/70\n",
            "293/293 [==============================] - ETA: 0s - loss: 0.0836\n",
            "Epoch 46: loss improved from 0.08834 to 0.08360, saving model to next_words.h5\n",
            "293/293 [==============================] - 199s 681ms/step - loss: 0.0836\n",
            "Epoch 47/70\n",
            "293/293 [==============================] - ETA: 0s - loss: 0.0733\n",
            "Epoch 47: loss improved from 0.08360 to 0.07327, saving model to next_words.h5\n",
            "293/293 [==============================] - 199s 680ms/step - loss: 0.0733\n",
            "Epoch 48/70\n",
            "293/293 [==============================] - ETA: 0s - loss: 0.0565\n",
            "Epoch 48: loss improved from 0.07327 to 0.05647, saving model to next_words.h5\n",
            "293/293 [==============================] - 199s 680ms/step - loss: 0.0565\n",
            "Epoch 49/70\n",
            "293/293 [==============================] - ETA: 0s - loss: 0.0810\n",
            "Epoch 49: loss did not improve from 0.05647\n",
            "293/293 [==============================] - 199s 680ms/step - loss: 0.0810\n",
            "Epoch 50/70\n",
            "293/293 [==============================] - ETA: 0s - loss: 0.0933\n",
            "Epoch 50: loss did not improve from 0.05647\n",
            "293/293 [==============================] - 201s 684ms/step - loss: 0.0933\n",
            "Epoch 51/70\n",
            "293/293 [==============================] - ETA: 0s - loss: 0.1038\n",
            "Epoch 51: loss did not improve from 0.05647\n",
            "293/293 [==============================] - 197s 672ms/step - loss: 0.1038\n",
            "Epoch 52/70\n",
            "293/293 [==============================] - ETA: 0s - loss: 0.0916\n",
            "Epoch 52: loss did not improve from 0.05647\n",
            "293/293 [==============================] - 199s 680ms/step - loss: 0.0916\n",
            "Epoch 53/70\n",
            "293/293 [==============================] - ETA: 0s - loss: 0.0769\n",
            "Epoch 53: loss did not improve from 0.05647\n",
            "293/293 [==============================] - 200s 683ms/step - loss: 0.0769\n",
            "Epoch 54/70\n",
            "293/293 [==============================] - ETA: 0s - loss: 0.0654\n",
            "Epoch 54: loss did not improve from 0.05647\n",
            "293/293 [==============================] - 198s 677ms/step - loss: 0.0654\n",
            "Epoch 55/70\n",
            "293/293 [==============================] - ETA: 0s - loss: 0.0661\n",
            "Epoch 55: loss did not improve from 0.05647\n",
            "293/293 [==============================] - 199s 678ms/step - loss: 0.0661\n",
            "Epoch 56/70\n",
            "293/293 [==============================] - ETA: 0s - loss: 0.0709\n",
            "Epoch 56: loss did not improve from 0.05647\n",
            "293/293 [==============================] - 201s 686ms/step - loss: 0.0709\n",
            "Epoch 57/70\n",
            "293/293 [==============================] - ETA: 0s - loss: 0.0766\n",
            "Epoch 57: loss did not improve from 0.05647\n",
            "293/293 [==============================] - 200s 683ms/step - loss: 0.0766\n",
            "Epoch 58/70\n",
            "293/293 [==============================] - ETA: 0s - loss: 0.0715\n",
            "Epoch 58: loss did not improve from 0.05647\n",
            "293/293 [==============================] - 201s 686ms/step - loss: 0.0715\n",
            "Epoch 59/70\n",
            "293/293 [==============================] - ETA: 0s - loss: 0.0799\n",
            "Epoch 59: loss did not improve from 0.05647\n",
            "293/293 [==============================] - 203s 692ms/step - loss: 0.0799\n",
            "Epoch 60/70\n",
            "293/293 [==============================] - ETA: 0s - loss: 0.0690\n",
            "Epoch 60: loss did not improve from 0.05647\n",
            "293/293 [==============================] - 197s 674ms/step - loss: 0.0690\n",
            "Epoch 61/70\n",
            "293/293 [==============================] - ETA: 0s - loss: 0.0911\n",
            "Epoch 61: loss did not improve from 0.05647\n",
            "293/293 [==============================] - 197s 671ms/step - loss: 0.0911\n",
            "Epoch 62/70\n",
            "293/293 [==============================] - ETA: 0s - loss: 0.0839\n",
            "Epoch 62: loss did not improve from 0.05647\n",
            "293/293 [==============================] - 196s 670ms/step - loss: 0.0839\n",
            "Epoch 63/70\n",
            "293/293 [==============================] - ETA: 0s - loss: 0.0660\n",
            "Epoch 63: loss did not improve from 0.05647\n",
            "293/293 [==============================] - 198s 675ms/step - loss: 0.0660\n",
            "Epoch 64/70\n",
            "293/293 [==============================] - ETA: 0s - loss: 0.0616\n",
            "Epoch 64: loss did not improve from 0.05647\n",
            "293/293 [==============================] - 198s 677ms/step - loss: 0.0616\n",
            "Epoch 65/70\n",
            "293/293 [==============================] - ETA: 0s - loss: 0.0492\n",
            "Epoch 65: loss improved from 0.05647 to 0.04922, saving model to next_words.h5\n",
            "293/293 [==============================] - 200s 681ms/step - loss: 0.0492\n",
            "Epoch 66/70\n",
            "293/293 [==============================] - ETA: 0s - loss: 0.0530\n",
            "Epoch 66: loss did not improve from 0.04922\n",
            "293/293 [==============================] - 197s 672ms/step - loss: 0.0530\n",
            "Epoch 67/70\n",
            "293/293 [==============================] - ETA: 0s - loss: 0.0607\n",
            "Epoch 67: loss did not improve from 0.04922\n",
            "293/293 [==============================] - 197s 672ms/step - loss: 0.0607\n",
            "Epoch 68/70\n",
            "293/293 [==============================] - ETA: 0s - loss: 0.0638\n",
            "Epoch 68: loss did not improve from 0.04922\n",
            "293/293 [==============================] - 196s 669ms/step - loss: 0.0638\n",
            "Epoch 69/70\n",
            "293/293 [==============================] - ETA: 0s - loss: 0.0767\n",
            "Epoch 69: loss did not improve from 0.04922\n",
            "293/293 [==============================] - 200s 683ms/step - loss: 0.0767\n",
            "Epoch 70/70\n",
            "293/293 [==============================] - ETA: 0s - loss: 0.0841\n",
            "Epoch 70: loss did not improve from 0.04922\n",
            "293/293 [==============================] - 197s 673ms/step - loss: 0.0841\n"
          ]
        },
        {
          "output_type": "execute_result",
          "data": {
            "text/plain": [
              "<keras.callbacks.History at 0x7f3547019640>"
            ]
          },
          "metadata": {},
          "execution_count": 13
        }
      ],
      "source": [
        "from tensorflow.keras.callbacks import ModelCheckpoint\n",
        "\n",
        "checkpoint = ModelCheckpoint(\"next_words.h5\", monitor='loss', verbose=1, save_best_only=True)\n",
        "model.compile(loss=\"categorical_crossentropy\", optimizer=Adam(learning_rate=0.001))\n",
        "model.fit(data, predict, epochs=70, batch_size=64, callbacks=[checkpoint])"
      ]
    },
    {
      "cell_type": "code",
      "execution_count": null,
      "metadata": {
        "id": "Jn5S-pI6t4DE"
      },
      "outputs": [],
      "source": [
        "# credits:  IG Tech Team\n",
        "from tensorflow.keras.models import load_model\n",
        "import numpy as np\n",
        "import pickle\n",
        "\n",
        "# Load the model and tokenizer\n",
        "model = load_model('next_words.h5')\n",
        "tokenizer = pickle.load(open('token.pkl', 'rb'))\n",
        "\n",
        "def Predict_Next_Words(model, tokenizer, text):\n",
        "\n",
        "  sequence = tokenizer.texts_to_sequences([text])\n",
        "  sequence = np.array(sequence)\n",
        "  preds = np.argmax(model.predict(sequence))\n",
        "  predicted_word = \"\"\n",
        "  \n",
        "  for key, value in tokenizer.word_index.items():\n",
        "      if value == preds:\n",
        "          predicted_word = key\n",
        "          break\n",
        "  \n",
        "  print(predicted_word)"
      ]
    },
    {
      "cell_type": "code",
      "source": [
        "while(True):\n",
        "  text = input(\"Enter your line: \")\n",
        "  \n",
        "  if text == \"0\":\n",
        "      print(\"Execution completed.....\")\n",
        "      break\n",
        "  \n",
        "  else:\n",
        "      try:\n",
        "          text = text.split(\" \")\n",
        "          text = text[-4:]\n",
        "          print(text)\n",
        "        \n",
        "          Predict_Next_Words(model, tokenizer, text)\n",
        "          \n",
        "      except Exception as e:\n",
        "        print(\"Error occurred: \",e)\n",
        "        continue"
      ],
      "metadata": {
        "colab": {
          "base_uri": "https://localhost:8080/"
        },
        "id": "ZAe5tftV8nsl",
        "outputId": "681973c9-ae1d-4699-b5c1-2a22500d348c"
      },
      "execution_count": null,
      "outputs": [
        {
          "output_type": "stream",
          "name": "stdout",
          "text": [
            "Enter your line: where are you \n",
            "['where', 'are', 'you', '']\n",
            "1/1 [==============================] - 2s 2s/step\n",
            "yes\n",
            "Enter your line: what do you \n",
            "['what', 'do', 'you', '']\n",
            "1/1 [==============================] - 0s 68ms/step\n",
            "consider\n",
            "Enter your line: I am going to \n",
            "['am', 'going', 'to', '']\n",
            "1/1 [==============================] - 0s 52ms/step\n",
            "i\n",
            "Enter your line: where did you \n",
            "['where', 'did', 'you', '']\n",
            "1/1 [==============================] - 0s 44ms/step\n",
            "yes\n",
            "Enter your line: what did you \n",
            "['what', 'did', 'you', '']\n",
            "1/1 [==============================] - 0s 44ms/step\n",
            "consider\n",
            "Enter your line: I can not \n",
            "['I', 'can', 'not', '']\n",
            "1/1 [==============================] - 0s 52ms/step\n",
            "with\n",
            "Enter your line: I will not \n",
            "['I', 'will', 'not', '']\n",
            "1/1 [==============================] - 0s 58ms/step\n",
            "that\n",
            "Enter your line: I feel that \n",
            "['I', 'feel', 'that', '']\n",
            "1/1 [==============================] - 0s 60ms/step\n",
            "all\n",
            "Enter your line: how does that \n",
            "['how', 'does', 'that', '']\n",
            "1/1 [==============================] - 0s 52ms/step\n",
            "out\n",
            "Enter your line: I think that \n",
            "['I', 'think', 'that', '']\n",
            "1/1 [==============================] - 0s 44ms/step\n",
            "one\n",
            "Enter your line: I am looking \n",
            "['I', 'am', 'looking', '']\n",
            "1/1 [==============================] - 0s 44ms/step\n",
            "officers\n",
            "Enter your line: what is yout \n",
            "['what', 'is', 'yout', '']\n",
            "1/1 [==============================] - 0s 45ms/step\n",
            "but\n",
            "Enter your line: what is your \n",
            "['what', 'is', 'your', '']\n",
            "1/1 [==============================] - 0s 44ms/step\n",
            "at\n",
            "Enter your line: can you do \n",
            "['can', 'you', 'do', '']\n",
            "1/1 [==============================] - 0s 42ms/step\n",
            "but\n",
            "Enter your line: where can I \n",
            "['where', 'can', 'I', '']\n",
            "1/1 [==============================] - 0s 39ms/step\n",
            "to\n",
            "Enter your line: is there a\n",
            "['is', 'there', 'a']\n",
            "1/1 [==============================] - 1s 891ms/step\n",
            "little\n",
            "Enter your line: why do I \n",
            "['why', 'do', 'I', '']\n",
            "1/1 [==============================] - 0s 50ms/step\n",
            "jane’s\n",
            "Enter your line: where do I \n",
            "['where', 'do', 'I', '']\n",
            "1/1 [==============================] - 0s 79ms/step\n",
            "mean\n",
            "Enter your line: How can I \n",
            "['How', 'can', 'I', '']\n",
            "1/1 [==============================] - 0s 42ms/step\n",
            "your\n",
            "Enter your line: I do not \n",
            "['I', 'do', 'not', '']\n",
            "1/1 [==============================] - 0s 53ms/step\n",
            "how\n",
            "Enter your line: How much is \n",
            "['How', 'much', 'is', '']\n",
            "1/1 [==============================] - 0s 49ms/step\n",
            "with\n",
            "Enter your line: Where can I \n",
            "['Where', 'can', 'I', '']\n",
            "1/1 [==============================] - 0s 47ms/step\n",
            "to\n",
            "Enter your line: what can I \n",
            "['what', 'can', 'I', '']\n",
            "1/1 [==============================] - 0s 44ms/step\n",
            "to\n",
            "Enter your line: are you th \n",
            "['are', 'you', 'th', '']\n",
            "1/1 [==============================] - 0s 39ms/step\n",
            "if\n",
            "Enter your line: are you the \n",
            "['are', 'you', 'the', '']\n",
            "1/1 [==============================] - 0s 49ms/step\n",
            "for\n",
            "Enter your line: that was my \n",
            "['that', 'was', 'my', '']\n",
            "1/1 [==============================] - 0s 44ms/step\n",
            "is\n",
            "Enter your line: Can I get\n",
            "['Can', 'I', 'get']\n",
            "1/1 [==============================] - 0s 40ms/step\n",
            "it\n",
            "Enter your line: what was the \n",
            "['what', 'was', 'the', '']\n",
            "1/1 [==============================] - 0s 38ms/step\n",
            "of\n",
            "Enter your line: tell me about \n",
            "['tell', 'me', 'about', '']\n",
            "1/1 [==============================] - 0s 39ms/step\n",
            "which\n",
            "Enter your line: How come I \n",
            "['How', 'come', 'I', '']\n",
            "1/1 [==============================] - 0s 41ms/step\n",
            "would\n",
            "Enter your line: the\n",
            "['the']\n",
            "1/1 [==============================] - 0s 24ms/step\n",
            "party\n",
            "Enter your line: how do you \n",
            "['how', 'do', 'you', '']\n",
            "1/1 [==============================] - 0s 39ms/step\n",
            "to\n"
          ]
        }
      ]
    }
  ],
  "metadata": {
    "colab": {
      "provenance": [],
      "authorship_tag": "ABX9TyNayXhWh9VFfwRsoGbG77at",
      "include_colab_link": true
    },
    "kernelspec": {
      "display_name": "Python 3",
      "name": "python3"
    },
    "language_info": {
      "name": "python"
    }
  },
  "nbformat": 4,
  "nbformat_minor": 0
}